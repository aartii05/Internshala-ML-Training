{
 "cells": [
  {
   "cell_type": "markdown",
   "metadata": {},
   "source": [
    "# Sklearn"
   ]
  },
  {
   "cell_type": "markdown",
   "metadata": {},
   "source": [
    "## -Preprocessing\n",
    "###  a. Normalizing\n",
    "###  b. Scaling\n",
    "###  c. Variable Encoding\n",
    "## from sklearn.preprocessing import MinMaxScaler\n",
    "\n",
    "## MinMaxScaler is used to scale your data and bring down all values betwn 0-1"
   ]
  },
  {
   "cell_type": "markdown",
   "metadata": {},
   "source": [
    "## - Model Selection\n",
    "### a. Train-test split\n",
    "### b. Model Validation\n",
    "### c.Parameter Search\n",
    "\n",
    "## from sklearn.model_selection import train_test_split\n",
    "\n",
    "### train_test_split is used to divide the dataset into two parts - 1. Training model 2. Testing the model"
   ]
  },
  {
   "cell_type": "markdown",
   "metadata": {},
   "source": [
    "## - Building a model\n",
    "### a.Linear Models\n",
    "### b.Ensemble Models\n",
    "### c.Clustering\n",
    "\n",
    "## from sklearn.linear_model import LinearRegression"
   ]
  },
  {
   "cell_type": "markdown",
   "metadata": {},
   "source": [
    "## - Model Evaluation\n",
    "\n",
    "## from sklearn.metrics import accuracy_score"
   ]
  },
  {
   "cell_type": "markdown",
   "metadata": {},
   "source": [
    "## Introduction to sklearn\n",
    "### a. Import the class from sklearn module\n",
    "### b. Create a class instance\n",
    "### c. Assign the input and required parameters to the class"
   ]
  },
  {
   "cell_type": "code",
   "execution_count": null,
   "metadata": {},
   "outputs": [],
   "source": []
  }
 ],
 "metadata": {
  "kernelspec": {
   "display_name": "Python 3",
   "language": "python",
   "name": "python3"
  },
  "language_info": {
   "codemirror_mode": {
    "name": "ipython",
    "version": 3
   },
   "file_extension": ".py",
   "mimetype": "text/x-python",
   "name": "python",
   "nbconvert_exporter": "python",
   "pygments_lexer": "ipython3",
   "version": "3.7.6"
  }
 },
 "nbformat": 4,
 "nbformat_minor": 4
}
